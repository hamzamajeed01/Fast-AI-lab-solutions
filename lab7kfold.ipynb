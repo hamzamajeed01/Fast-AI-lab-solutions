{
  "nbformat": 4,
  "nbformat_minor": 0,
  "metadata": {
    "colab": {
      "provenance": []
    },
    "kernelspec": {
      "name": "python3",
      "display_name": "Python 3"
    },
    "language_info": {
      "name": "python"
    }
  },
  "cells": [
    {
      "cell_type": "code",
      "execution_count": 1,
      "metadata": {
        "colab": {
          "base_uri": "https://localhost:8080/"
        },
        "id": "P0a8Ka99JUN3",
        "outputId": "dcf27889-5139-4e7d-82f6-6e368ab9d389"
      },
      "outputs": [
        {
          "output_type": "stream",
          "name": "stdout",
          "text": [
            "Downloading data from https://storage.googleapis.com/tensorflow/tf-keras-datasets/train-labels-idx1-ubyte.gz\n",
            "29515/29515 [==============================] - 0s 0us/step\n",
            "Downloading data from https://storage.googleapis.com/tensorflow/tf-keras-datasets/train-images-idx3-ubyte.gz\n",
            "26421880/26421880 [==============================] - 1s 0us/step\n",
            "Downloading data from https://storage.googleapis.com/tensorflow/tf-keras-datasets/t10k-labels-idx1-ubyte.gz\n",
            "5148/5148 [==============================] - 0s 0us/step\n",
            "Downloading data from https://storage.googleapis.com/tensorflow/tf-keras-datasets/t10k-images-idx3-ubyte.gz\n",
            "4422102/4422102 [==============================] - 1s 0us/step\n"
          ]
        },
        {
          "output_type": "stream",
          "name": "stderr",
          "text": [
            "/usr/local/lib/python3.9/dist-packages/sklearn/neural_network/_multilayer_perceptron.py:686: ConvergenceWarning: Stochastic Optimizer: Maximum iterations (200) reached and the optimization hasn't converged yet.\n",
            "  warnings.warn(\n",
            "/usr/local/lib/python3.9/dist-packages/sklearn/neural_network/_multilayer_perceptron.py:686: ConvergenceWarning: Stochastic Optimizer: Maximum iterations (200) reached and the optimization hasn't converged yet.\n",
            "  warnings.warn(\n"
          ]
        },
        {
          "output_type": "stream",
          "name": "stdout",
          "text": [
            "Mean accuracy across 5 folds: 0.820\n",
            "Standard deviation of accuracy across 5 folds: 0.002\n"
          ]
        }
      ],
      "source": [
        "import numpy as np \n",
        "import pandas as pd\n",
        "import matplotlib.pyplot as plt \n",
        "\n",
        "from tensorflow.keras.datasets import fashion_mnist\n",
        "from sklearn.neural_network import MLPClassifier\n",
        "from sklearn.metrics import accuracy_score\n",
        "from sklearn.model_selection import KFold\n",
        "\n",
        "# Load the dataset\n",
        "(X_train, Y_train), (X_test, Y_test) = fashion_mnist.load_data()\n",
        "\n",
        "# Reshape and normalize the data\n",
        "X_train = X_train.reshape(60000, 784) / 255\n",
        "X_test = X_test.reshape(10000, 784) / 255\n",
        "\n",
        "# Define the MLPClassifier model\n",
        "clf = MLPClassifier(solver='adam', alpha=1e-5, hidden_layer_sizes=(4), random_state=1)\n",
        "\n",
        "# Define the number of folds for k-fold cross-validation\n",
        "k = 5\n",
        "\n",
        "# Create the KFold object\n",
        "kf = KFold(n_splits=k)\n",
        "\n",
        "# Initialize the list to store the accuracies of each fold\n",
        "acc_list = []\n",
        "\n",
        "# Loop through each fold\n",
        "for train_idx, val_idx in kf.split(X_train):\n",
        "    \n",
        "    # Split the data into training and validation sets for the current fold\n",
        "    X_train_fold, X_val_fold = X_train[train_idx], X_train[val_idx]\n",
        "    Y_train_fold, Y_val_fold = Y_train[train_idx], Y_train[val_idx]\n",
        "    \n",
        "    # Fit the MLPClassifier model on the training data for the current fold\n",
        "    clf.fit(X_train_fold, Y_train_fold)\n",
        "    \n",
        "    # Make predictions on the validation data for the current fold\n",
        "    Y_val_pred = clf.predict(X_val_fold)\n",
        "    \n",
        "    # Calculate the accuracy of the predictions for the current fold\n",
        "    acc = accuracy_score(Y_val_fold, Y_val_pred)\n",
        "    \n",
        "    # Add the accuracy of the current fold to the list\n",
        "    acc_list.append(acc)\n",
        "\n",
        "# Calculate the mean and standard deviation of the accuracies across all folds\n",
        "mean_acc = np.mean(acc_list)\n",
        "std_acc = np.std(acc_list)\n",
        "\n",
        "# Print the mean and standard deviation of the accuracies\n",
        "print(f'Mean accuracy across {k} folds: {mean_acc:.3f}')\n",
        "print(f'Standard deviation of accuracy across {k} folds: {std_acc:.3f}')"
      ]
    }
  ]
}