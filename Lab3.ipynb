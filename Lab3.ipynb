{
  "nbformat": 4,
  "nbformat_minor": 0,
  "metadata": {
    "colab": {
      "provenance": []
    },
    "kernelspec": {
      "name": "python3",
      "display_name": "Python 3"
    },
    "language_info": {
      "name": "python"
    }
  },
  "cells": [
    {
      "cell_type": "code",
      "execution_count": 15,
      "metadata": {
        "colab": {
          "base_uri": "https://localhost:8080/"
        },
        "id": "tKZwdsGlkLlE",
        "outputId": "95d1315d-1535-41d4-8b42-f78198277ca4"
      },
      "outputs": [
        {
          "output_type": "stream",
          "name": "stdout",
          "text": [
            "[1, 3, 5, 7, 9]\n",
            "Square of  1  is :  1\n",
            "Cube of  1  is :  1\n",
            "\n",
            "\n",
            "Square of  3  is :  9\n",
            "Cube of  3  is :  27\n",
            "\n",
            "\n",
            "Square of  5  is :  25\n",
            "Cube of  5  is :  125\n",
            "\n",
            "\n",
            "Square of  7  is :  49\n",
            "Cube of  7  is :  343\n",
            "\n",
            "\n",
            "Square of  9  is :  81\n",
            "Cube of  9  is :  729\n",
            "\n",
            "\n"
          ]
        }
      ],
      "source": [
        "#Q1\n",
        "array = [1,3,5,7,9]\n",
        "print(array)\n",
        "sq=lambda x: x ** 2\n",
        "cub=lambda x: x ** 3\n",
        "for q in array:\n",
        "  print(\"Square of \",q,\" is : \",sq(q))\n",
        "  print(\"Cube of \",q,\" is : \",cub(q))\n",
        "  print(\"\\n\")\n"
      ]
    },
    {
      "cell_type": "code",
      "source": [
        "#Q2\n",
        "stk = []\n",
        "for i in range(11):\n",
        "    stk.append(i)\n",
        "print(\"Elements of stack : \" , stk)\n",
        "\n",
        "popElement = stk.pop(0)\n",
        "print(\"Popped Element is : \" , popElement)\n",
        "print(stk)\n",
        "\n",
        "head = stk[0]\n",
        "print(\"Top Element of Stack : \" , head)\n",
        "\n",
        "size = len(stk)\n",
        "print(\"Size of Stack\" , size)"
      ],
      "metadata": {
        "colab": {
          "base_uri": "https://localhost:8080/"
        },
        "id": "BRLUEmC6wdSm",
        "outputId": "04d9de93-bbfc-45c1-8ce0-096e3de6432f"
      },
      "execution_count": 16,
      "outputs": [
        {
          "output_type": "stream",
          "name": "stdout",
          "text": [
            "Elements of stack :  [0, 1, 2, 3, 4, 5, 6, 7, 8, 9, 10]\n",
            "Popped Element is :  0\n",
            "[1, 2, 3, 4, 5, 6, 7, 8, 9, 10]\n",
            "Top Element of Stack :  1\n",
            "Size of Stack 10\n"
          ]
        }
      ]
    },
    {
      "cell_type": "code",
      "source": [
        "#Q3\n",
        "class Rectangle():\n",
        "    def __init__(self, l, w):\n",
        "        self.length = l\n",
        "        self.width  = w\n",
        "        self.area=0\n",
        "\n",
        "    def rectangle_area(self):\n",
        "        self.area=self.length*self.width\n",
        "    def printrectarea(self):\n",
        "      print(\"Area of Rectangle = \",self.area)\n",
        "\n",
        "r1= Rectangle(12, 10)\n",
        "r1.rectangle_area()\n",
        "r1.printrectarea()"
      ],
      "metadata": {
        "colab": {
          "base_uri": "https://localhost:8080/"
        },
        "id": "OzchdkwbtikT",
        "outputId": "9dc9bf9d-04a1-45a2-eef8-8d7d6d8ae9b0"
      },
      "execution_count": 18,
      "outputs": [
        {
          "output_type": "stream",
          "name": "stdout",
          "text": [
            "Area of Rectangle =  120\n"
          ]
        }
      ]
    }
  ]
}