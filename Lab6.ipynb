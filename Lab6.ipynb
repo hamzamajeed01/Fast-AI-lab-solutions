{
  "nbformat": 4,
  "nbformat_minor": 0,
  "metadata": {
    "colab": {
      "provenance": []
    },
    "kernelspec": {
      "name": "python3",
      "display_name": "Python 3"
    },
    "language_info": {
      "name": "python"
    }
  },
  "cells": [
    {
      "cell_type": "code",
      "execution_count": 6,
      "metadata": {
        "colab": {
          "base_uri": "https://localhost:8080/"
        },
        "id": "_EkY3ULCsyOL",
        "outputId": "4ddba3af-f22f-4083-bc1e-2f9edd939b8b"
      },
      "outputs": [
        {
          "output_type": "stream",
          "name": "stdout",
          "text": [
            "(2, 0, 3, 1)\n"
          ]
        }
      ],
      "source": [
        "import random\n",
        "\n",
        "def generate_board():\n",
        "    board = [random.randint(0, 3) for _ in range(4)]\n",
        "    return board\n",
        "\n",
        "def count_attacks(board):\n",
        "    attacks = 0\n",
        "    for i in range(4):\n",
        "        for j in range(i+1, 4):\n",
        "            if board[i] == board[j] or abs(i-j) == abs(board[i]-board[j]):\n",
        "                attacks += 1\n",
        "    return attacks\n",
        "\n",
        "def get_neighbors(board):\n",
        "    neighbors = []\n",
        "    for i in range(4):\n",
        "        for j in range(4):\n",
        "            if j != board[i]:\n",
        "                neighbor = list(board)\n",
        "                neighbor[i] = j\n",
        "                neighbors.append(neighbor)\n",
        "    return neighbors\n",
        "\n",
        "def hill_climbing():\n",
        "    board = generate_board()\n",
        "    while True:\n",
        "        current_attacks = count_attacks(board)\n",
        "        if current_attacks == 0:\n",
        "            return board\n",
        "        neighbors = get_neighbors(board)\n",
        "        neighbor_attacks = [count_attacks(neighbor) for neighbor in neighbors]\n",
        "        if min(neighbor_attacks) >= current_attacks:\n",
        "            return board\n",
        "        board = neighbors[neighbor_attacks.index(min(neighbor_attacks))]\n",
        "\n",
        "\n",
        "solution = hill_climbing()\n",
        "print(tuple(solution))\n"
      ]
    }
  ]
}