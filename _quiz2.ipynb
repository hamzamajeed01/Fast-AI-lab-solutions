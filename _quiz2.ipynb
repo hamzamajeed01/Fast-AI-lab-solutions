{
  "nbformat": 4,
  "nbformat_minor": 0,
  "metadata": {
    "colab": {
      "provenance": []
    },
    "kernelspec": {
      "name": "python3",
      "display_name": "Python 3"
    },
    "language_info": {
      "name": "python"
    }
  },
  "cells": [
    {
      "cell_type": "code",
      "execution_count": 3,
      "metadata": {
        "colab": {
          "base_uri": "https://localhost:8080/"
        },
        "id": "6ks84fo76TyX",
        "outputId": "bc607a24-e62e-4e1a-c8e9-cf0ddecd37c4"
      },
      "outputs": [
        {
          "output_type": "stream",
          "name": "stdout",
          "text": [
            "{'hidden_weights': array([[0.96026865, 0.32261705, 0.99269284, 0.48584806, 0.99671412],\n",
            "       [0.90040652, 0.66717609, 0.12305263, 0.53729883, 0.94383153],\n",
            "       [0.02932663, 0.37923565, 0.55218434, 0.22240865, 0.51261869],\n",
            "       [0.04420351, 0.45530825, 0.91724524, 0.60181654, 0.6626608 ],\n",
            "       [0.73977096, 0.71526532, 0.04535287, 0.31154707, 0.20906356],\n",
            "       [0.54026423, 0.36367454, 0.5207392 , 0.39537551, 0.77658586],\n",
            "       [0.14784634, 0.35531849, 0.86499965, 0.036545  , 0.24689261],\n",
            "       [0.87756787, 0.41022555, 0.72683513, 0.07616066, 0.00855381],\n",
            "       [0.81167823, 0.09585364, 0.35815775, 0.19722273, 0.55229606],\n",
            "       [0.06576133, 0.51901958, 0.04350283, 0.14357736, 0.76320942]]), 'output_weights': array([[0.75488656, 0.09265367, 0.14673953, 0.1769561 , 0.57482231,\n",
            "        0.7534391 , 0.17856031, 0.45699534, 0.90536837, 0.51879917]])}\n"
          ]
        }
      ],
      "source": [
        "# import numpy as np\n",
        "# import random\n",
        "\n",
        "# # i have done both the froward and backward pass in the backpropagation_iteration function\n",
        "# # i have also wrote a sample 4 line code for main to test the function\n",
        "\n",
        "# def sigmoid(x):\n",
        "#     return 1/(1+(2.718**-x))\n",
        "\n",
        "# def sigmoid_derivative(x):\n",
        "#     return sigmoid(x)*(1-sigmoid(x))\n",
        "\n",
        "# def backpropagation_iteration(inputs,target,weights):\n",
        "#     #forward pass\n",
        "#     hidden_layer_input = np.dot(weights['hidden_weights'],inputs)\n",
        "#     hidden_layer_output = np.array([sigmoid(x) for x in hidden_layer_input])\n",
        "#     output_layer_input = np.dot(weights['output_weights'],hidden_layer_output)\n",
        "#     output_layer_output = sigmoid(output_layer_input)\n",
        "#     #backward pass\n",
        "#     error = target - output_layer_output\n",
        "#     output_layer_error = error*sigmoid_derivative(output_layer_input)\n",
        "#     hidden_layer_error = np.dot(output_layer_error,weights['output_weights'])*np.array([sigmoid_derivative(x) for x in hidden_layer_input])\n",
        "#     #updating weights\n",
        "#     weights['output_weights'] += 0.1*output_layer_error*hidden_layer_output\n",
        "#     weights['hidden_weights'] += 0.1*np.outer(hidden_layer_error,inputs)\n",
        "#     return weights\n",
        "\n",
        "# inputs = np.array([1,2,3,4,5])\n",
        "# target = 1\n",
        "# weights = {'hidden_weights':np.random.rand(10,5),'output_weights':np.random.rand(1,10)}\n",
        "# print(backpropagation_iteration(inputs,target,weights))"
      ]
    }
  ]
}